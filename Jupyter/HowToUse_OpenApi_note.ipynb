{
 "cells": [
  {
   "cell_type": "code",
   "execution_count": 77,
   "id": "7edc50a3",
   "metadata": {},
   "outputs": [
    {
     "name": "stdout",
     "output_type": "stream",
     "text": [
      "Requirement already satisfied: xmltodict in c:\\users\\user\\miniconda3\\lib\\site-packages (0.12.0)\n",
      "Collecting beautifulsoup4\n",
      "  Downloading beautifulsoup4-4.9.3-py3-none-any.whl (115 kB)\n",
      "Collecting soupsieve>1.2\n",
      "  Downloading soupsieve-2.2.1-py3-none-any.whl (33 kB)\n",
      "Installing collected packages: soupsieve, beautifulsoup4\n",
      "Successfully installed beautifulsoup4-4.9.3 soupsieve-2.2.1\n"
     ]
    }
   ],
   "source": [
    "!pip install xmltodict\n",
    "!pip install beautifulsoup4"
   ]
  },
  {
   "cell_type": "markdown",
   "id": "f32e0cb7",
   "metadata": {},
   "source": [
    "## 공공데이터포털에서 open API불러오기\n",
    "\n",
    "python 버전 3에서는 urllib2가 없으므로 \"from urillib2 import Request, urlopen\" 코드는 오류 발생\n",
    "\"from urllib.request import Request, urlopen\" 이용\n",
    "\n",
    "또한 \"from urllib import urlencode, quote_plus\"도 오류 발생\n",
    "\"from urllib.parse import urlencode, quote_plus\" 입력"
   ]
  },
  {
   "cell_type": "code",
   "execution_count": 209,
   "id": "a63710a4",
   "metadata": {},
   "outputs": [],
   "source": [
    "import pandas as pd\n",
    "from urllib.request import Request, urlopen\n",
    "from urllib.parse import urlencode, quote_plus\n",
    "\n",
    "url = 'http://openapi.q-net.or.kr/api/service/rest/InquiryStatSVC/getGradPiPassList'\n",
    "queryParams = '?' + urlencode({ quote_plus('ServiceKey') : 'ygMvNxJQ6HFnIUQtG0H5ykqHK9ANGqXm9AfnHa75GILHvyP4bsRRZfQqfpXtrn+3WmN+kyGCLOLqGo0qlF8HQg==', quote_plus('baseYY') : '2017' })\n",
    "\n",
    "request = Request(url + queryParams)\n",
    "request.get_method = lambda: 'GET'\n",
    "response_body= urlopen(request).read()"
   ]
  },
  {
   "cell_type": "code",
   "execution_count": 211,
   "id": "49c5588b",
   "metadata": {},
   "outputs": [
    {
     "data": {
      "text/plain": [
       "bytes"
      ]
     },
     "execution_count": 211,
     "metadata": {},
     "output_type": "execute_result"
    }
   ],
   "source": [
    "type(response_body)"
   ]
  },
  {
   "cell_type": "code",
   "execution_count": 212,
   "id": "37bc7dc8",
   "metadata": {},
   "outputs": [
    {
     "data": {
      "text/plain": [
       "b'<?xml version=\"1.0\" encoding=\"UTF-8\" standalone=\"yes\"?><response><header><resultCode>00</resultCode><resultMsg>NORMAL SERVICE.</resultMsg></header><body><items><item><gradename>\\xea\\xb8\\xb0\\xec\\x88\\xa0\\xec\\x82\\xac</gradename><statisyy1>59</statisyy1><statisyy2>56</statisyy2><statisyy3>55</statisyy3><statisyy4>53</statisyy4><statisyy5>56</statisyy5><statisyy6>65</statisyy6></item><item><gradename>\\xea\\xb8\\xb0\\xeb\\x8a\\xa5\\xec\\x9e\\xa5</gradename><statisyy1>33</statisyy1><statisyy2>36</statisyy2><statisyy3>24</statisyy3><statisyy4>23</statisyy4><statisyy5>30</statisyy5><statisyy6>29</statisyy6></item><item><gradename>\\xea\\xb8\\xb0\\xec\\x82\\xac</gradename><statisyy1>41</statisyy1><statisyy2>43</statisyy2><statisyy3>42</statisyy3><statisyy4>37</statisyy4><statisyy5>40</statisyy5><statisyy6>38</statisyy6></item><item><gradename>\\xec\\x82\\xb0\\xec\\x97\\x85\\xea\\xb8\\xb0\\xec\\x82\\xac</gradename><statisyy1>47</statisyy1><statisyy2>49</statisyy2><statisyy3>46</statisyy3><statisyy4>49</statisyy4><statisyy5>45</statisyy5><statisyy6>44</statisyy6></item><item><gradename>\\xec\\xa0\\x84\\xeb\\xac\\xb8\\xec\\x82\\xac\\xeb\\xac\\xb4</gradename><statisyy1>40</statisyy1><statisyy2>41</statisyy2><statisyy3>36</statisyy3><statisyy4>34</statisyy4><statisyy5>34</statisyy5><statisyy6>30</statisyy6></item><item><gradename>\\xea\\xb8\\xb0\\xeb\\x8a\\xa5\\xec\\x82\\xac</gradename><statisyy1>49</statisyy1><statisyy2>48</statisyy2><statisyy3>48</statisyy3><statisyy4>47</statisyy4><statisyy5>47</statisyy5><statisyy6>51</statisyy6></item><item><gradename>\\xea\\xb8\\xb0\\xeb\\x8a\\xa5\\xec\\x82\\xac\\xeb\\xb3\\xb4</gradename><statisyy6>64</statisyy6></item></items></body></response>'"
      ]
     },
     "execution_count": 212,
     "metadata": {},
     "output_type": "execute_result"
    }
   ],
   "source": [
    "response_body"
   ]
  },
  {
   "cell_type": "markdown",
   "id": "2f098bd1",
   "metadata": {},
   "source": [
    "### Decoding\n",
    "utf-8 형식은 byte 타입으로 인코딩 되어 있는 상태.\n",
    "이를 문자열로 변환하는 것을 decode라 함.\n",
    "\n",
    "https://chrisjune-13837.medium.com/%EC%9D%B8%EC%BD%94%EB%94%A9%EA%B3%BC-%EB%94%94%EC%BD%94%EB%94%A9-87006cf8dee2"
   ]
  },
  {
   "cell_type": "code",
   "execution_count": 213,
   "id": "649e4e5e",
   "metadata": {},
   "outputs": [],
   "source": [
    "decode_response= response_body.decode('utf-8')"
   ]
  },
  {
   "cell_type": "code",
   "execution_count": 185,
   "id": "09589782",
   "metadata": {},
   "outputs": [
    {
     "data": {
      "text/plain": [
       "bytes"
      ]
     },
     "execution_count": 185,
     "metadata": {},
     "output_type": "execute_result"
    }
   ],
   "source": [
    "type(response_body)"
   ]
  },
  {
   "cell_type": "code",
   "execution_count": 186,
   "id": "32d58757",
   "metadata": {},
   "outputs": [
    {
     "data": {
      "text/plain": [
       "str"
      ]
     },
     "execution_count": 186,
     "metadata": {},
     "output_type": "execute_result"
    }
   ],
   "source": [
    "type(decode_response)"
   ]
  },
  {
   "cell_type": "markdown",
   "id": "f591fef9",
   "metadata": {},
   "source": [
    "### method 1) BeautifulSoup\n",
    "BeautifulSoup의 라이브러리 내에 있는 html parser는 xml의 구조를 파악함\n",
    "html parser를 이용해 xml파일 형태를 인식함으로써 item을 찾을 수 있음(?)\n",
    "\n",
    "++ 추가 자료 조사 필요\n",
    "https://godongyoung.github.io/%EC%BD%94%EB%94%A9cheat%20sheet/2019/06/02/Open-API-%ED%99%9C%EC%9A%A9%EB%B0%A9%EB%B2%95-%EC%A0%95%EB%A6%AC(with-Python).html"
   ]
  },
  {
   "cell_type": "code",
   "execution_count": 214,
   "id": "fba1fef1",
   "metadata": {},
   "outputs": [],
   "source": [
    "from bs4 import BeautifulSoup\n",
    "\n",
    "soup= BeautifulSoup(decode_response, 'html.parser')"
   ]
  },
  {
   "cell_type": "code",
   "execution_count": 215,
   "id": "652478b2",
   "metadata": {},
   "outputs": [
    {
     "data": {
      "text/plain": [
       "[<item><gradename>기술사</gradename><statisyy1>59</statisyy1><statisyy2>56</statisyy2><statisyy3>55</statisyy3><statisyy4>53</statisyy4><statisyy5>56</statisyy5><statisyy6>65</statisyy6></item>,\n",
       " <item><gradename>기능장</gradename><statisyy1>33</statisyy1><statisyy2>36</statisyy2><statisyy3>24</statisyy3><statisyy4>23</statisyy4><statisyy5>30</statisyy5><statisyy6>29</statisyy6></item>,\n",
       " <item><gradename>기사</gradename><statisyy1>41</statisyy1><statisyy2>43</statisyy2><statisyy3>42</statisyy3><statisyy4>37</statisyy4><statisyy5>40</statisyy5><statisyy6>38</statisyy6></item>,\n",
       " <item><gradename>산업기사</gradename><statisyy1>47</statisyy1><statisyy2>49</statisyy2><statisyy3>46</statisyy3><statisyy4>49</statisyy4><statisyy5>45</statisyy5><statisyy6>44</statisyy6></item>,\n",
       " <item><gradename>전문사무</gradename><statisyy1>40</statisyy1><statisyy2>41</statisyy2><statisyy3>36</statisyy3><statisyy4>34</statisyy4><statisyy5>34</statisyy5><statisyy6>30</statisyy6></item>,\n",
       " <item><gradename>기능사</gradename><statisyy1>49</statisyy1><statisyy2>48</statisyy2><statisyy3>48</statisyy3><statisyy4>47</statisyy4><statisyy5>47</statisyy5><statisyy6>51</statisyy6></item>,\n",
       " <item><gradename>기능사보</gradename><statisyy6>64</statisyy6></item>]"
      ]
     },
     "execution_count": 215,
     "metadata": {},
     "output_type": "execute_result"
    }
   ],
   "source": [
    "datas_bs= soup.find_all('item')\n",
    "datas_bs"
   ]
  },
  {
   "cell_type": "code",
   "execution_count": 216,
   "id": "71cd0212",
   "metadata": {},
   "outputs": [
    {
     "data": {
      "text/plain": [
       "bs4.element.ResultSet"
      ]
     },
     "execution_count": 216,
     "metadata": {},
     "output_type": "execute_result"
    }
   ],
   "source": [
    "type(datas_bs)"
   ]
  },
  {
   "cell_type": "code",
   "execution_count": 217,
   "id": "2f4cd901",
   "metadata": {},
   "outputs": [
    {
     "data": {
      "text/plain": [
       "['기술사595655535665',\n",
       " '기능장333624233029',\n",
       " '기사414342374038',\n",
       " '산업기사474946494544',\n",
       " '전문사무404136343430']"
      ]
     },
     "execution_count": 217,
     "metadata": {},
     "output_type": "execute_result"
    }
   ],
   "source": [
    "# .text를 통해 데이터 구조말고 내용만 보기\n",
    "\n",
    "[x.text for x in datas_bs][:5]"
   ]
  },
  {
   "cell_type": "markdown",
   "id": "ea7c70c7",
   "metadata": {},
   "source": [
    "### method 2) bytes형태에서 str형태로 바꾼 xml을  dict형태로 변환"
   ]
  },
  {
   "cell_type": "code",
   "execution_count": 2,
   "id": "eb0a98f1",
   "metadata": {},
   "outputs": [
    {
     "ename": "NameError",
     "evalue": "name 'decode_response' is not defined",
     "output_type": "error",
     "traceback": [
      "\u001b[1;31m---------------------------------------------------------------------------\u001b[0m",
      "\u001b[1;31mNameError\u001b[0m                                 Traceback (most recent call last)",
      "\u001b[1;32m~\\AppData\\Local\\Temp/ipykernel_10316/875114743.py\u001b[0m in \u001b[0;36m<module>\u001b[1;34m\u001b[0m\n\u001b[0;32m      1\u001b[0m \u001b[1;32mimport\u001b[0m \u001b[0mxmltodict\u001b[0m\u001b[1;33m\u001b[0m\u001b[1;33m\u001b[0m\u001b[0m\n\u001b[0;32m      2\u001b[0m \u001b[1;33m\u001b[0m\u001b[0m\n\u001b[1;32m----> 3\u001b[1;33m \u001b[0mto_json\u001b[0m\u001b[1;33m=\u001b[0m \u001b[0mxmltodict\u001b[0m\u001b[1;33m.\u001b[0m\u001b[0mparse\u001b[0m\u001b[1;33m(\u001b[0m\u001b[0mdecode_response\u001b[0m\u001b[1;33m)\u001b[0m\u001b[1;33m\u001b[0m\u001b[1;33m\u001b[0m\u001b[0m\n\u001b[0m\u001b[0;32m      4\u001b[0m \u001b[0mto_dict\u001b[0m\u001b[1;33m=\u001b[0m \u001b[0mjson\u001b[0m\u001b[1;33m.\u001b[0m\u001b[0mdumps\u001b[0m\u001b[1;33m(\u001b[0m\u001b[0mto_json\u001b[0m\u001b[1;33m)\u001b[0m\u001b[1;33m\u001b[0m\u001b[1;33m\u001b[0m\u001b[0m\n\u001b[0;32m      5\u001b[0m \u001b[1;33m\u001b[0m\u001b[0m\n",
      "\u001b[1;31mNameError\u001b[0m: name 'decode_response' is not defined"
     ]
    }
   ],
   "source": [
    "import xmltodict\n",
    "\n",
    "to_json= xmltodict.parse(decode_response)\n",
    "to_dict= json.dumps(to_json)\n",
    "\n",
    "datas_dict= json.loads(to_dict)"
   ]
  },
  {
   "cell_type": "code",
   "execution_count": 248,
   "id": "ec7cc1d0",
   "metadata": {},
   "outputs": [
    {
     "data": {
      "text/plain": [
       "OrderedDict([('gradename', '기술사'),\n",
       "             ('statisyy1', '59'),\n",
       "             ('statisyy2', '56'),\n",
       "             ('statisyy3', '55'),\n",
       "             ('statisyy4', '53'),\n",
       "             ('statisyy5', '56'),\n",
       "             ('statisyy6', '65')])"
      ]
     },
     "execution_count": 248,
     "metadata": {},
     "output_type": "execute_result"
    }
   ],
   "source": [
    "tmp=to_json['response']['body']['items']['item']\n",
    "tmp[0]"
   ]
  },
  {
   "cell_type": "code",
   "execution_count": 233,
   "id": "48a1a6b5",
   "metadata": {},
   "outputs": [
    {
     "data": {
      "text/plain": [
       "[{'gradename': '기술사',\n",
       "  'statisyy1': '59',\n",
       "  'statisyy2': '56',\n",
       "  'statisyy3': '55',\n",
       "  'statisyy4': '53',\n",
       "  'statisyy5': '56',\n",
       "  'statisyy6': '65'},\n",
       " {'gradename': '기능장',\n",
       "  'statisyy1': '33',\n",
       "  'statisyy2': '36',\n",
       "  'statisyy3': '24',\n",
       "  'statisyy4': '23',\n",
       "  'statisyy5': '30',\n",
       "  'statisyy6': '29'},\n",
       " {'gradename': '기사',\n",
       "  'statisyy1': '41',\n",
       "  'statisyy2': '43',\n",
       "  'statisyy3': '42',\n",
       "  'statisyy4': '37',\n",
       "  'statisyy5': '40',\n",
       "  'statisyy6': '38'},\n",
       " {'gradename': '산업기사',\n",
       "  'statisyy1': '47',\n",
       "  'statisyy2': '49',\n",
       "  'statisyy3': '46',\n",
       "  'statisyy4': '49',\n",
       "  'statisyy5': '45',\n",
       "  'statisyy6': '44'},\n",
       " {'gradename': '전문사무',\n",
       "  'statisyy1': '40',\n",
       "  'statisyy2': '41',\n",
       "  'statisyy3': '36',\n",
       "  'statisyy4': '34',\n",
       "  'statisyy5': '34',\n",
       "  'statisyy6': '30'},\n",
       " {'gradename': '기능사',\n",
       "  'statisyy1': '49',\n",
       "  'statisyy2': '48',\n",
       "  'statisyy3': '48',\n",
       "  'statisyy4': '47',\n",
       "  'statisyy5': '47',\n",
       "  'statisyy6': '51'},\n",
       " {'gradename': '기능사보', 'statisyy6': '64'}]"
      ]
     },
     "execution_count": 233,
     "metadata": {},
     "output_type": "execute_result"
    }
   ],
   "source": [
    "datas_dict=datas_dict['response']['body']['items']['item']\n",
    "\n",
    "datas_dict"
   ]
  },
  {
   "cell_type": "code",
   "execution_count": 238,
   "id": "8c2f38da",
   "metadata": {},
   "outputs": [
    {
     "name": "stdout",
     "output_type": "stream",
     "text": [
      "['gradename', 'statisyy1', 'statisyy2', 'statisyy3', 'statisyy4', 'statisyy5', 'statisyy6']\n"
     ]
    }
   ],
   "source": [
    "df_cols =[]\n",
    "\n",
    "for key, val in datas_dict[0].items():\n",
    "    df_cols.append(key)\n",
    "    \n",
    "print(df_cols)"
   ]
  },
  {
   "cell_type": "code",
   "execution_count": 250,
   "id": "dd38dad1",
   "metadata": {},
   "outputs": [
    {
     "data": {
      "text/plain": [
       "list"
      ]
     },
     "execution_count": 250,
     "metadata": {},
     "output_type": "execute_result"
    }
   ],
   "source": [
    "type(datas_dict)"
   ]
  },
  {
   "cell_type": "code",
   "execution_count": 242,
   "id": "8db0365a",
   "metadata": {},
   "outputs": [
    {
     "name": "stdout",
     "output_type": "stream",
     "text": [
      "{'gradename': '기술사', 'statisyy1': '59', 'statisyy2': '56', 'statisyy3': '55', 'statisyy4': '53', 'statisyy5': '56', 'statisyy6': '65'}\n",
      "{'gradename': '기능장', 'statisyy1': '33', 'statisyy2': '36', 'statisyy3': '24', 'statisyy4': '23', 'statisyy5': '30', 'statisyy6': '29'}\n",
      "{'gradename': '기사', 'statisyy1': '41', 'statisyy2': '43', 'statisyy3': '42', 'statisyy4': '37', 'statisyy5': '40', 'statisyy6': '38'}\n",
      "{'gradename': '산업기사', 'statisyy1': '47', 'statisyy2': '49', 'statisyy3': '46', 'statisyy4': '49', 'statisyy5': '45', 'statisyy6': '44'}\n",
      "{'gradename': '전문사무', 'statisyy1': '40', 'statisyy2': '41', 'statisyy3': '36', 'statisyy4': '34', 'statisyy5': '34', 'statisyy6': '30'}\n",
      "{'gradename': '기능사', 'statisyy1': '49', 'statisyy2': '48', 'statisyy3': '48', 'statisyy4': '47', 'statisyy5': '47', 'statisyy6': '51'}\n",
      "{'gradename': '기능사보', 'statisyy1': '49', 'statisyy2': '48', 'statisyy3': '48', 'statisyy4': '47', 'statisyy5': '47', 'statisyy6': '64'}\n"
     ]
    }
   ],
   "source": [
    "df_rows={}\n",
    "out_df= pd.DataFrame(columns=df_cols)\n",
    "\n",
    "for i in range(len(datas_dict)):\n",
    "    for key, val in datas_dict[i].items():\n",
    "        df_rows[key]= val\n",
    "    \n",
    "    print(df_rows)\n",
    "    out_df= out_df.append(df_rows, ignore_index=True)"
   ]
  },
  {
   "cell_type": "code",
   "execution_count": 243,
   "id": "b6c26afa",
   "metadata": {},
   "outputs": [
    {
     "data": {
      "text/html": [
       "<div>\n",
       "<style scoped>\n",
       "    .dataframe tbody tr th:only-of-type {\n",
       "        vertical-align: middle;\n",
       "    }\n",
       "\n",
       "    .dataframe tbody tr th {\n",
       "        vertical-align: top;\n",
       "    }\n",
       "\n",
       "    .dataframe thead th {\n",
       "        text-align: right;\n",
       "    }\n",
       "</style>\n",
       "<table border=\"1\" class=\"dataframe\">\n",
       "  <thead>\n",
       "    <tr style=\"text-align: right;\">\n",
       "      <th></th>\n",
       "      <th>gradename</th>\n",
       "      <th>statisyy1</th>\n",
       "      <th>statisyy2</th>\n",
       "      <th>statisyy3</th>\n",
       "      <th>statisyy4</th>\n",
       "      <th>statisyy5</th>\n",
       "      <th>statisyy6</th>\n",
       "    </tr>\n",
       "  </thead>\n",
       "  <tbody>\n",
       "    <tr>\n",
       "      <th>0</th>\n",
       "      <td>기술사</td>\n",
       "      <td>59</td>\n",
       "      <td>56</td>\n",
       "      <td>55</td>\n",
       "      <td>53</td>\n",
       "      <td>56</td>\n",
       "      <td>65</td>\n",
       "    </tr>\n",
       "    <tr>\n",
       "      <th>1</th>\n",
       "      <td>기능장</td>\n",
       "      <td>33</td>\n",
       "      <td>36</td>\n",
       "      <td>24</td>\n",
       "      <td>23</td>\n",
       "      <td>30</td>\n",
       "      <td>29</td>\n",
       "    </tr>\n",
       "    <tr>\n",
       "      <th>2</th>\n",
       "      <td>기사</td>\n",
       "      <td>41</td>\n",
       "      <td>43</td>\n",
       "      <td>42</td>\n",
       "      <td>37</td>\n",
       "      <td>40</td>\n",
       "      <td>38</td>\n",
       "    </tr>\n",
       "    <tr>\n",
       "      <th>3</th>\n",
       "      <td>산업기사</td>\n",
       "      <td>47</td>\n",
       "      <td>49</td>\n",
       "      <td>46</td>\n",
       "      <td>49</td>\n",
       "      <td>45</td>\n",
       "      <td>44</td>\n",
       "    </tr>\n",
       "    <tr>\n",
       "      <th>4</th>\n",
       "      <td>전문사무</td>\n",
       "      <td>40</td>\n",
       "      <td>41</td>\n",
       "      <td>36</td>\n",
       "      <td>34</td>\n",
       "      <td>34</td>\n",
       "      <td>30</td>\n",
       "    </tr>\n",
       "    <tr>\n",
       "      <th>5</th>\n",
       "      <td>기능사</td>\n",
       "      <td>49</td>\n",
       "      <td>48</td>\n",
       "      <td>48</td>\n",
       "      <td>47</td>\n",
       "      <td>47</td>\n",
       "      <td>51</td>\n",
       "    </tr>\n",
       "    <tr>\n",
       "      <th>6</th>\n",
       "      <td>기능사보</td>\n",
       "      <td>49</td>\n",
       "      <td>48</td>\n",
       "      <td>48</td>\n",
       "      <td>47</td>\n",
       "      <td>47</td>\n",
       "      <td>64</td>\n",
       "    </tr>\n",
       "  </tbody>\n",
       "</table>\n",
       "</div>"
      ],
      "text/plain": [
       "  gradename statisyy1 statisyy2 statisyy3 statisyy4 statisyy5 statisyy6\n",
       "0       기술사        59        56        55        53        56        65\n",
       "1       기능장        33        36        24        23        30        29\n",
       "2        기사        41        43        42        37        40        38\n",
       "3      산업기사        47        49        46        49        45        44\n",
       "4      전문사무        40        41        36        34        34        30\n",
       "5       기능사        49        48        48        47        47        51\n",
       "6      기능사보        49        48        48        47        47        64"
      ]
     },
     "execution_count": 243,
     "metadata": {},
     "output_type": "execute_result"
    }
   ],
   "source": [
    "out_df"
   ]
  },
  {
   "cell_type": "code",
   "execution_count": null,
   "id": "f6d8a942",
   "metadata": {},
   "outputs": [],
   "source": []
  }
 ],
 "metadata": {
  "kernelspec": {
   "display_name": "Python 3 (ipykernel)",
   "language": "python",
   "name": "python3"
  },
  "language_info": {
   "codemirror_mode": {
    "name": "ipython",
    "version": 3
   },
   "file_extension": ".py",
   "mimetype": "text/x-python",
   "name": "python",
   "nbconvert_exporter": "python",
   "pygments_lexer": "ipython3",
   "version": "3.9.1"
  }
 },
 "nbformat": 4,
 "nbformat_minor": 5
}
