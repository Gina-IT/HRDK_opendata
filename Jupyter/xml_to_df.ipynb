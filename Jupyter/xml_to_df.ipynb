{
 "cells": [
  {
   "cell_type": "code",
   "execution_count": 8,
   "id": "030b32d3",
   "metadata": {},
   "outputs": [],
   "source": [
    "# 데이터 불러오기\n",
    "\n",
    "import pandas as pd\n",
    "from urllib.request import Request, urlopen\n",
    "from urllib.parse import urlencode, quote_plus\n",
    "\n",
    "url = 'http://openapi.q-net.or.kr/api/service/rest/InquiryStatSVC/getTotExamList'\n",
    "queryParams = '?' + urlencode({ quote_plus('ServiceKey') : 'ygMvNxJQ6HFnIUQtG0H5ykqHK9ANGqXm9AfnHa75GILHvyP4bsRRZfQqfpXtrn+3WmN+kyGCLOLqGo0qlF8HQg==', quote_plus('baseYY') : '2017' })\n",
    "\n",
    "request = Request(url + queryParams)\n",
    "request.get_method = lambda: 'GET'\n",
    "response_body= urlopen(request).read()"
   ]
  },
  {
   "cell_type": "code",
   "execution_count": 9,
   "id": "924c4db8",
   "metadata": {},
   "outputs": [],
   "source": [
    "# decoding\n",
    "decode_response= response_body.decode('utf-8')\n",
    "\n",
    "# xml파싱\n",
    "import xmltodict\n",
    "\n",
    "xml_parsing= xmltodict.parse(decode_response)\n",
    "datas= xml_parsing['response']['body']['items']['item']"
   ]
  },
  {
   "cell_type": "code",
   "execution_count": 10,
   "id": "b192489c",
   "metadata": {},
   "outputs": [
    {
     "data": {
      "text/plain": [
       "collections.OrderedDict"
      ]
     },
     "execution_count": 10,
     "metadata": {},
     "output_type": "execute_result"
    }
   ],
   "source": [
    "type(datas)"
   ]
  },
  {
   "cell_type": "code",
   "execution_count": 11,
   "id": "5e57dfda",
   "metadata": {},
   "outputs": [
    {
     "name": "stdout",
     "output_type": "stream",
     "text": [
      "OrderedDict([('pilpscnt1', '649702'), ('pilpscnt2', '632502'), ('pilpscnt3', '590695'), ('pilpscnt4', '572198'), ('pilpscnt5', '557850'), ('pilpscnt6', '14503629'), ('pilrccnt1', '1550877'), ('pilrccnt2', '1555921'), ('pilrccnt3', '1516646'), ('pilrccnt4', '1525875'), ('pilrccnt5', '1507143'), ('pilrccnt6', '38720552'), ('silpacnt1', '525113'), ('silpacnt2', '516253'), ('silpacnt3', '485331'), ('silpacnt4', '429422'), ('silpacnt5', '445563'), ('silpacnt6', '11746885'), ('silrccnt1', '1109429'), ('silrccnt2', '1082471'), ('silrccnt3', '1042868'), ('silrccnt4', '950087'), ('silrccnt5', '969735'), ('silrccnt6', '24076230')])\n"
     ]
    }
   ],
   "source": [
    "print(datas)"
   ]
  },
  {
   "cell_type": "code",
   "execution_count": 12,
   "id": "a540c607",
   "metadata": {},
   "outputs": [
    {
     "ename": "KeyError",
     "evalue": "0",
     "output_type": "error",
     "traceback": [
      "\u001b[1;31m---------------------------------------------------------------------------\u001b[0m",
      "\u001b[1;31mKeyError\u001b[0m                                  Traceback (most recent call last)",
      "\u001b[1;32m~\\AppData\\Local\\Temp/ipykernel_12916/2802959609.py\u001b[0m in \u001b[0;36m<module>\u001b[1;34m\u001b[0m\n\u001b[0;32m      3\u001b[0m \u001b[0mdf_cols\u001b[0m \u001b[1;33m=\u001b[0m\u001b[1;33m[\u001b[0m\u001b[1;33m]\u001b[0m\u001b[1;33m\u001b[0m\u001b[1;33m\u001b[0m\u001b[0m\n\u001b[0;32m      4\u001b[0m \u001b[1;33m\u001b[0m\u001b[0m\n\u001b[1;32m----> 5\u001b[1;33m \u001b[1;32mfor\u001b[0m \u001b[0mkey\u001b[0m\u001b[1;33m,\u001b[0m \u001b[0mval\u001b[0m \u001b[1;32min\u001b[0m \u001b[0mdatas\u001b[0m\u001b[1;33m[\u001b[0m\u001b[1;36m0\u001b[0m\u001b[1;33m]\u001b[0m\u001b[1;33m.\u001b[0m\u001b[0mitems\u001b[0m\u001b[1;33m(\u001b[0m\u001b[1;33m)\u001b[0m\u001b[1;33m:\u001b[0m   \u001b[1;31m# datas에 key와 value로 접근해 key만 추출해서 column생성\u001b[0m\u001b[1;33m\u001b[0m\u001b[1;33m\u001b[0m\u001b[0m\n\u001b[0m\u001b[0;32m      6\u001b[0m     \u001b[0mdf_cols\u001b[0m\u001b[1;33m.\u001b[0m\u001b[0mappend\u001b[0m\u001b[1;33m(\u001b[0m\u001b[0mkey\u001b[0m\u001b[1;33m)\u001b[0m\u001b[1;33m\u001b[0m\u001b[1;33m\u001b[0m\u001b[0m\n\u001b[0;32m      7\u001b[0m \u001b[1;33m\u001b[0m\u001b[0m\n",
      "\u001b[1;31mKeyError\u001b[0m: 0"
     ]
    }
   ],
   "source": [
    "# 데이터프레임 column생성\n",
    "\n",
    "df_cols =[]\n",
    "\n",
    "for key, val in datas[0].items():   # datas에 key와 value로 접근해 key만 추출해서 column생성\n",
    "    df_cols.append(key)\n",
    "    \n",
    "print(df_cols)"
   ]
  },
  {
   "cell_type": "code",
   "execution_count": 6,
   "id": "0cb507c3",
   "metadata": {},
   "outputs": [],
   "source": [
    "# 데이터프레임 row 채우기\n",
    "\n",
    "df_rows={}     # 빈 딕셔너리 형태로 row 생성 (딕셔너리에서 ket값을 이용하여 접근함 \"dict[key값]\"=value)\n",
    "out_df= pd.DataFrame(columns=df_cols)     # 생성한 column 명으로 데이터프레임 생성\n",
    "\n",
    "for i in range(len(datas)):\n",
    "    for key, val in datas[i].items():     # datas에 key와 val로 접근하여, i번째 data의 \n",
    "        df_rows[key]= val                  # values를 key row에 저장\n",
    "    \n",
    "    out_df= out_df.append(df_rows, ignore_index=True)     # 생성한 데이터프레임에 row를 추가해나감"
   ]
  },
  {
   "cell_type": "code",
   "execution_count": 7,
   "id": "3b2ca51d",
   "metadata": {},
   "outputs": [
    {
     "data": {
      "text/html": [
       "<div>\n",
       "<style scoped>\n",
       "    .dataframe tbody tr th:only-of-type {\n",
       "        vertical-align: middle;\n",
       "    }\n",
       "\n",
       "    .dataframe tbody tr th {\n",
       "        vertical-align: top;\n",
       "    }\n",
       "\n",
       "    .dataframe thead th {\n",
       "        text-align: right;\n",
       "    }\n",
       "</style>\n",
       "<table border=\"1\" class=\"dataframe\">\n",
       "  <thead>\n",
       "    <tr style=\"text-align: right;\">\n",
       "      <th></th>\n",
       "      <th>gradename</th>\n",
       "      <th>statisyy1</th>\n",
       "      <th>statisyy2</th>\n",
       "      <th>statisyy3</th>\n",
       "      <th>statisyy4</th>\n",
       "      <th>statisyy5</th>\n",
       "      <th>statisyy6</th>\n",
       "    </tr>\n",
       "  </thead>\n",
       "  <tbody>\n",
       "    <tr>\n",
       "      <th>0</th>\n",
       "      <td>기술사</td>\n",
       "      <td>18023</td>\n",
       "      <td>17056</td>\n",
       "      <td>16482</td>\n",
       "      <td>18454</td>\n",
       "      <td>19596</td>\n",
       "      <td>445544</td>\n",
       "    </tr>\n",
       "    <tr>\n",
       "      <th>1</th>\n",
       "      <td>기능장</td>\n",
       "      <td>22743</td>\n",
       "      <td>22280</td>\n",
       "      <td>20370</td>\n",
       "      <td>21019</td>\n",
       "      <td>17572</td>\n",
       "      <td>114152</td>\n",
       "    </tr>\n",
       "    <tr>\n",
       "      <th>2</th>\n",
       "      <td>기사</td>\n",
       "      <td>326381</td>\n",
       "      <td>310576</td>\n",
       "      <td>284836</td>\n",
       "      <td>261362</td>\n",
       "      <td>254896</td>\n",
       "      <td>6557192</td>\n",
       "    </tr>\n",
       "    <tr>\n",
       "      <th>3</th>\n",
       "      <td>산업기사</td>\n",
       "      <td>210041</td>\n",
       "      <td>210028</td>\n",
       "      <td>204427</td>\n",
       "      <td>196546</td>\n",
       "      <td>196998</td>\n",
       "      <td>7655801</td>\n",
       "    </tr>\n",
       "    <tr>\n",
       "      <th>4</th>\n",
       "      <td>전문사무</td>\n",
       "      <td>41687</td>\n",
       "      <td>42501</td>\n",
       "      <td>42760</td>\n",
       "      <td>44133</td>\n",
       "      <td>43591</td>\n",
       "      <td>308894</td>\n",
       "    </tr>\n",
       "    <tr>\n",
       "      <th>5</th>\n",
       "      <td>기능사</td>\n",
       "      <td>932002</td>\n",
       "      <td>953480</td>\n",
       "      <td>947771</td>\n",
       "      <td>984361</td>\n",
       "      <td>974490</td>\n",
       "      <td>23638969</td>\n",
       "    </tr>\n",
       "    <tr>\n",
       "      <th>6</th>\n",
       "      <td>기능사보</td>\n",
       "      <td>932002</td>\n",
       "      <td>953480</td>\n",
       "      <td>947771</td>\n",
       "      <td>984361</td>\n",
       "      <td>974490</td>\n",
       "      <td>0</td>\n",
       "    </tr>\n",
       "  </tbody>\n",
       "</table>\n",
       "</div>"
      ],
      "text/plain": [
       "  gradename statisyy1 statisyy2 statisyy3 statisyy4 statisyy5 statisyy6\n",
       "0       기술사     18023     17056     16482     18454     19596    445544\n",
       "1       기능장     22743     22280     20370     21019     17572    114152\n",
       "2        기사    326381    310576    284836    261362    254896   6557192\n",
       "3      산업기사    210041    210028    204427    196546    196998   7655801\n",
       "4      전문사무     41687     42501     42760     44133     43591    308894\n",
       "5       기능사    932002    953480    947771    984361    974490  23638969\n",
       "6      기능사보    932002    953480    947771    984361    974490         0"
      ]
     },
     "execution_count": 7,
     "metadata": {},
     "output_type": "execute_result"
    }
   ],
   "source": [
    "out_df"
   ]
  },
  {
   "cell_type": "code",
   "execution_count": null,
   "id": "2b705cc1",
   "metadata": {},
   "outputs": [],
   "source": []
  }
 ],
 "metadata": {
  "kernelspec": {
   "display_name": "Python 3 (ipykernel)",
   "language": "python",
   "name": "python3"
  },
  "language_info": {
   "codemirror_mode": {
    "name": "ipython",
    "version": 3
   },
   "file_extension": ".py",
   "mimetype": "text/x-python",
   "name": "python",
   "nbconvert_exporter": "python",
   "pygments_lexer": "ipython3",
   "version": "3.9.1"
  }
 },
 "nbformat": 4,
 "nbformat_minor": 5
}
