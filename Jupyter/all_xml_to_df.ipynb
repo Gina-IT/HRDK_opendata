{
 "cells": [
  {
   "cell_type": "code",
   "execution_count": 1,
   "id": "323a91ec",
   "metadata": {},
   "outputs": [],
   "source": [
    "# 데이터 불러오기 (종목별(Event) 제외)\n",
    "\n",
    "import pandas as pd\n",
    "from urllib.request import Request, urlopen\n",
    "from urllib.parse import urlencode, quote_plus\n",
    "import xmltodict\n",
    "\n",
    "url = 'http://openapi.q-net.or.kr/api/service/rest/InquiryStatSVC/'\n",
    "queryParams = '?' + urlencode({ quote_plus('ServiceKey') : 'ygMvNxJQ6HFnIUQtG0H5ykqHK9ANGqXm9AfnHa75GILHvyP4bsRRZfQqfpXtrn+3WmN+kyGCLOLqGo0qlF8HQg==', quote_plus('baseYY') : '2017' })\n",
    "\n",
    "operation_list=['getTotExamList','getGradPiExamList','getGradPiPassList','getGradSiExamList','getGradSiPassList','getCertYearGradeList','getCertYearAgeList']"
   ]
  },
  {
   "cell_type": "code",
   "execution_count": 2,
   "id": "a57ab04f",
   "metadata": {},
   "outputs": [
    {
     "data": {
      "text/plain": [
       "7"
      ]
     },
     "execution_count": 2,
     "metadata": {},
     "output_type": "execute_result"
    }
   ],
   "source": [
    "len(operation_list)"
   ]
  },
  {
   "cell_type": "code",
   "execution_count": 3,
   "id": "ef565822",
   "metadata": {},
   "outputs": [
    {
     "data": {
      "text/plain": [
       "'http://openapi.q-net.or.kr/api/service/rest/InquiryStatSVC/getGradSiPassList?ServiceKey=ygMvNxJQ6HFnIUQtG0H5ykqHK9ANGqXm9AfnHa75GILHvyP4bsRRZfQqfpXtrn%2B3WmN%2BkyGCLOLqGo0qlF8HQg%3D%3D&baseYY=2017'"
      ]
     },
     "execution_count": 3,
     "metadata": {},
     "output_type": "execute_result"
    }
   ],
   "source": [
    "url + operation_list[4] + queryParams"
   ]
  },
  {
   "cell_type": "code",
   "execution_count": 4,
   "id": "508df98e",
   "metadata": {},
   "outputs": [],
   "source": [
    "all_datas= []\n",
    "\n",
    "for i in range(len(operation_list)):\n",
    "    request = Request(url + operation_list[i] + queryParams)\n",
    "    request.get_method = lambda: 'GET'\n",
    "    response_body= urlopen(request).read()\n",
    "    \n",
    "    decode_response= response_body.decode('utf-8')\n",
    "    xml_parsing= xmltodict.parse(decode_response)\n",
    "\n",
    "    if xml_parsing['response']['body']['items'] is not None:\n",
    "        datas= xml_parsing['response']['body']['items']['item']\n",
    "        all_datas.append(datas)"
   ]
  },
  {
   "cell_type": "code",
   "execution_count": 13,
   "id": "96651626",
   "metadata": {},
   "outputs": [],
   "source": [
    "# 종목별(Event) 데이터 불러오기 - 종목코드 필요\n",
    "\n",
    "operation_list_event= ['getEventYearPiList','getEventYearSiList','getEventCertYearList']\n",
    "\n",
    "queryParams = '?' + urlencode({ quote_plus('ServiceKey') : 'ygMvNxJQ6HFnIUQtG0H5ykqHK9ANGqXm9AfnHa75GILHvyP4bsRRZfQqfpXtrn+3WmN+kyGCLOLqGo0qlF8HQg==', quote_plus('baseYY') : '2017' , quote_plus('jmCd') : '0960'})\n",
    "\n",
    "for i in range(len(operation_list_event)):\n",
    "    request = Request(url + operation_list_event[i] + queryParams)\n",
    "    request.get_method = lambda: 'GET'\n",
    "    response_body= urlopen(request).read()\n",
    "    \n",
    "    decode_response= response_body.decode('utf-8')\n",
    "    xml_parsing= xmltodict.parse(decode_response)\n",
    "\n",
    "    if xml_parsing['response']['body']['items'] is not None:\n",
    "        datas= xml_parsing['response']['body']['items']['item']\n",
    "        all_datas.append(datas)"
   ]
  },
  {
   "cell_type": "code",
   "execution_count": 19,
   "id": "98771b77",
   "metadata": {},
   "outputs": [
    {
     "data": {
      "text/plain": [
       "list"
      ]
     },
     "execution_count": 19,
     "metadata": {},
     "output_type": "execute_result"
    }
   ],
   "source": [
    "type(all_datas)"
   ]
  },
  {
   "cell_type": "code",
   "execution_count": 149,
   "id": "2a7ea175",
   "metadata": {},
   "outputs": [],
   "source": [
    "# 데이터프레임 생성\n",
    " \n",
    "dfs= dict()\n",
    "failed_to_df= dict()\n",
    "\n",
    "for i in range(len(all_datas)):\n",
    "    if type(all_datas[i]) is list:\n",
    "        df= pd.DataFrame(all_datas[i])\n",
    "        dfs[i]=df\n",
    "    else:\n",
    "        failed_to_df[i]= all_datas[i]"
   ]
  },
  {
   "cell_type": "code",
   "execution_count": 150,
   "id": "ad1a26d1",
   "metadata": {},
   "outputs": [
    {
     "data": {
      "text/plain": [
       "7"
      ]
     },
     "execution_count": 150,
     "metadata": {},
     "output_type": "execute_result"
    }
   ],
   "source": [
    "len(dfs)"
   ]
  },
  {
   "cell_type": "code",
   "execution_count": 151,
   "id": "f099ef06",
   "metadata": {},
   "outputs": [
    {
     "data": {
      "text/plain": [
       "3"
      ]
     },
     "execution_count": 151,
     "metadata": {},
     "output_type": "execute_result"
    }
   ],
   "source": [
    "len(failed_to_df)"
   ]
  },
  {
   "cell_type": "code",
   "execution_count": 161,
   "id": "16a0c0ab",
   "metadata": {},
   "outputs": [
    {
     "data": {
      "text/plain": [
       "dict_keys([1, 2, 3, 4, 5, 6, 9])"
      ]
     },
     "execution_count": 161,
     "metadata": {},
     "output_type": "execute_result"
    }
   ],
   "source": [
    "dfs.keys()"
   ]
  },
  {
   "cell_type": "code",
   "execution_count": 163,
   "id": "5aa576c1",
   "metadata": {},
   "outputs": [
    {
     "data": {
      "text/plain": [
       "dict_keys([0, 7, 8])"
      ]
     },
     "execution_count": 163,
     "metadata": {},
     "output_type": "execute_result"
    }
   ],
   "source": [
    "failed_to_df.keys()"
   ]
  },
  {
   "cell_type": "code",
   "execution_count": 167,
   "id": "03fe91bd",
   "metadata": {},
   "outputs": [],
   "source": [
    "failed_to_df['TotExam']= failed_to_df.pop(0)\n",
    "failed_to_df['EventYearPi']= failed_to_df.pop(7)\n",
    "failed_to_df['EventYearSi']= failed_to_df.pop(8)\n",
    "\n",
    "dfs['GradPiExam']= dfs.pop(1)\n",
    "dfs['GradPiPass']= dfs.pop(2)\n",
    "dfs['GradSiExam']= dfs.pop(3)\n",
    "dfs['GradSiPass']= dfs.pop(4)\n",
    "dfs['CertYearGrade']= dfs.pop(5)\n",
    "dfs['CertYearAge']= dfs.pop(6)\n",
    "dfs['EventCertYear']= dfs.pop(9)"
   ]
  },
  {
   "cell_type": "code",
   "execution_count": 171,
   "id": "23e73926",
   "metadata": {},
   "outputs": [
    {
     "data": {
      "text/plain": [
       "dict_keys(['GradPiExam', 'GradPiPass', 'GradSiExam', 'GradSiPass', 'CertYearGrade', 'CertYearAge', 'EventCertYear'])"
      ]
     },
     "execution_count": 171,
     "metadata": {},
     "output_type": "execute_result"
    }
   ],
   "source": [
    "dfs.keys()"
   ]
  },
  {
   "cell_type": "code",
   "execution_count": 172,
   "id": "65c13c11",
   "metadata": {},
   "outputs": [
    {
     "data": {
      "text/plain": [
       "dict_keys(['TotExam', 'EventYearPi', 'EventYearSi'])"
      ]
     },
     "execution_count": 172,
     "metadata": {},
     "output_type": "execute_result"
    }
   ],
   "source": [
    "failed_to_df.keys()"
   ]
  },
  {
   "cell_type": "code",
   "execution_count": 174,
   "id": "5a9bd400",
   "metadata": {},
   "outputs": [
    {
     "data": {
      "text/html": [
       "<div>\n",
       "<style scoped>\n",
       "    .dataframe tbody tr th:only-of-type {\n",
       "        vertical-align: middle;\n",
       "    }\n",
       "\n",
       "    .dataframe tbody tr th {\n",
       "        vertical-align: top;\n",
       "    }\n",
       "\n",
       "    .dataframe thead th {\n",
       "        text-align: right;\n",
       "    }\n",
       "</style>\n",
       "<table border=\"1\" class=\"dataframe\">\n",
       "  <thead>\n",
       "    <tr style=\"text-align: right;\">\n",
       "      <th></th>\n",
       "      <th>gradename</th>\n",
       "      <th>statisyy1</th>\n",
       "      <th>statisyy2</th>\n",
       "      <th>statisyy3</th>\n",
       "      <th>statisyy4</th>\n",
       "      <th>statisyy5</th>\n",
       "      <th>statisyy6</th>\n",
       "    </tr>\n",
       "  </thead>\n",
       "  <tbody>\n",
       "    <tr>\n",
       "      <th>0</th>\n",
       "      <td>기술사</td>\n",
       "      <td>18023</td>\n",
       "      <td>17056</td>\n",
       "      <td>16482</td>\n",
       "      <td>18454</td>\n",
       "      <td>19596</td>\n",
       "      <td>445544</td>\n",
       "    </tr>\n",
       "    <tr>\n",
       "      <th>1</th>\n",
       "      <td>기능장</td>\n",
       "      <td>22743</td>\n",
       "      <td>22280</td>\n",
       "      <td>20370</td>\n",
       "      <td>21019</td>\n",
       "      <td>17572</td>\n",
       "      <td>114152</td>\n",
       "    </tr>\n",
       "    <tr>\n",
       "      <th>2</th>\n",
       "      <td>기사</td>\n",
       "      <td>326381</td>\n",
       "      <td>310576</td>\n",
       "      <td>284836</td>\n",
       "      <td>261362</td>\n",
       "      <td>254896</td>\n",
       "      <td>6557192</td>\n",
       "    </tr>\n",
       "    <tr>\n",
       "      <th>3</th>\n",
       "      <td>산업기사</td>\n",
       "      <td>210041</td>\n",
       "      <td>210028</td>\n",
       "      <td>204427</td>\n",
       "      <td>196546</td>\n",
       "      <td>196998</td>\n",
       "      <td>7655801</td>\n",
       "    </tr>\n",
       "    <tr>\n",
       "      <th>4</th>\n",
       "      <td>전문사무</td>\n",
       "      <td>41687</td>\n",
       "      <td>42501</td>\n",
       "      <td>42760</td>\n",
       "      <td>44133</td>\n",
       "      <td>43591</td>\n",
       "      <td>308894</td>\n",
       "    </tr>\n",
       "    <tr>\n",
       "      <th>5</th>\n",
       "      <td>기능사</td>\n",
       "      <td>932002</td>\n",
       "      <td>953480</td>\n",
       "      <td>947771</td>\n",
       "      <td>984361</td>\n",
       "      <td>974490</td>\n",
       "      <td>23638969</td>\n",
       "    </tr>\n",
       "    <tr>\n",
       "      <th>6</th>\n",
       "      <td>기능사보</td>\n",
       "      <td>NaN</td>\n",
       "      <td>NaN</td>\n",
       "      <td>NaN</td>\n",
       "      <td>NaN</td>\n",
       "      <td>NaN</td>\n",
       "      <td>0</td>\n",
       "    </tr>\n",
       "  </tbody>\n",
       "</table>\n",
       "</div>"
      ],
      "text/plain": [
       "  gradename statisyy1 statisyy2 statisyy3 statisyy4 statisyy5 statisyy6\n",
       "0       기술사     18023     17056     16482     18454     19596    445544\n",
       "1       기능장     22743     22280     20370     21019     17572    114152\n",
       "2        기사    326381    310576    284836    261362    254896   6557192\n",
       "3      산업기사    210041    210028    204427    196546    196998   7655801\n",
       "4      전문사무     41687     42501     42760     44133     43591    308894\n",
       "5       기능사    932002    953480    947771    984361    974490  23638969\n",
       "6      기능사보       NaN       NaN       NaN       NaN       NaN         0"
      ]
     },
     "execution_count": 174,
     "metadata": {},
     "output_type": "execute_result"
    }
   ],
   "source": [
    "grad_pi_exam= dfs['GradPiExam']\n",
    "grad_pi_exam"
   ]
  },
  {
   "cell_type": "code",
   "execution_count": 175,
   "id": "2de20c15",
   "metadata": {},
   "outputs": [],
   "source": [
    "grad_pi_pass= dfs['GradPiPass']\n",
    "grad_si_exam= dfs['GradSiExam']\n",
    "grad_si_pass= dfs['GradSiPass']\n",
    "cert_year_grade= dfs['CertYearGrade']\n",
    "cert_year_age= dfs['CertYearAge']\n",
    "event_cert_year= dfs['EventCertYear']"
   ]
  },
  {
   "cell_type": "code",
   "execution_count": 177,
   "id": "61fd5d61",
   "metadata": {},
   "outputs": [
    {
     "data": {
      "text/html": [
       "<div>\n",
       "<style scoped>\n",
       "    .dataframe tbody tr th:only-of-type {\n",
       "        vertical-align: middle;\n",
       "    }\n",
       "\n",
       "    .dataframe tbody tr th {\n",
       "        vertical-align: top;\n",
       "    }\n",
       "\n",
       "    .dataframe thead th {\n",
       "        text-align: right;\n",
       "    }\n",
       "</style>\n",
       "<table border=\"1\" class=\"dataframe\">\n",
       "  <thead>\n",
       "    <tr style=\"text-align: right;\">\n",
       "      <th></th>\n",
       "      <th>gradename</th>\n",
       "      <th>statisyy1</th>\n",
       "      <th>statisyy2</th>\n",
       "      <th>statisyy3</th>\n",
       "      <th>statisyy4</th>\n",
       "      <th>statisyy5</th>\n",
       "      <th>statisyy6</th>\n",
       "    </tr>\n",
       "  </thead>\n",
       "  <tbody>\n",
       "    <tr>\n",
       "      <th>0</th>\n",
       "      <td>기술사</td>\n",
       "      <td>59</td>\n",
       "      <td>56</td>\n",
       "      <td>55</td>\n",
       "      <td>53</td>\n",
       "      <td>56</td>\n",
       "      <td>65</td>\n",
       "    </tr>\n",
       "    <tr>\n",
       "      <th>1</th>\n",
       "      <td>기능장</td>\n",
       "      <td>33</td>\n",
       "      <td>36</td>\n",
       "      <td>24</td>\n",
       "      <td>23</td>\n",
       "      <td>30</td>\n",
       "      <td>29</td>\n",
       "    </tr>\n",
       "    <tr>\n",
       "      <th>2</th>\n",
       "      <td>기사</td>\n",
       "      <td>41</td>\n",
       "      <td>43</td>\n",
       "      <td>42</td>\n",
       "      <td>37</td>\n",
       "      <td>40</td>\n",
       "      <td>38</td>\n",
       "    </tr>\n",
       "    <tr>\n",
       "      <th>3</th>\n",
       "      <td>산업기사</td>\n",
       "      <td>47</td>\n",
       "      <td>49</td>\n",
       "      <td>46</td>\n",
       "      <td>49</td>\n",
       "      <td>45</td>\n",
       "      <td>44</td>\n",
       "    </tr>\n",
       "    <tr>\n",
       "      <th>4</th>\n",
       "      <td>전문사무</td>\n",
       "      <td>40</td>\n",
       "      <td>41</td>\n",
       "      <td>36</td>\n",
       "      <td>34</td>\n",
       "      <td>34</td>\n",
       "      <td>30</td>\n",
       "    </tr>\n",
       "    <tr>\n",
       "      <th>5</th>\n",
       "      <td>기능사</td>\n",
       "      <td>49</td>\n",
       "      <td>48</td>\n",
       "      <td>48</td>\n",
       "      <td>47</td>\n",
       "      <td>47</td>\n",
       "      <td>51</td>\n",
       "    </tr>\n",
       "    <tr>\n",
       "      <th>6</th>\n",
       "      <td>기능사보</td>\n",
       "      <td>NaN</td>\n",
       "      <td>NaN</td>\n",
       "      <td>NaN</td>\n",
       "      <td>NaN</td>\n",
       "      <td>NaN</td>\n",
       "      <td>64</td>\n",
       "    </tr>\n",
       "  </tbody>\n",
       "</table>\n",
       "</div>"
      ],
      "text/plain": [
       "  gradename statisyy1 statisyy2 statisyy3 statisyy4 statisyy5 statisyy6\n",
       "0       기술사        59        56        55        53        56        65\n",
       "1       기능장        33        36        24        23        30        29\n",
       "2        기사        41        43        42        37        40        38\n",
       "3      산업기사        47        49        46        49        45        44\n",
       "4      전문사무        40        41        36        34        34        30\n",
       "5       기능사        49        48        48        47        47        51\n",
       "6      기능사보       NaN       NaN       NaN       NaN       NaN        64"
      ]
     },
     "execution_count": 177,
     "metadata": {},
     "output_type": "execute_result"
    }
   ],
   "source": [
    "grad_pi_pass"
   ]
  },
  {
   "cell_type": "code",
   "execution_count": null,
   "id": "20f7546f",
   "metadata": {},
   "outputs": [],
   "source": []
  },
  {
   "cell_type": "code",
   "execution_count": null,
   "id": "96275061",
   "metadata": {},
   "outputs": [],
   "source": []
  }
 ],
 "metadata": {
  "kernelspec": {
   "display_name": "Python 3 (ipykernel)",
   "language": "python",
   "name": "python3"
  },
  "language_info": {
   "codemirror_mode": {
    "name": "ipython",
    "version": 3
   },
   "file_extension": ".py",
   "mimetype": "text/x-python",
   "name": "python",
   "nbconvert_exporter": "python",
   "pygments_lexer": "ipython3",
   "version": "3.9.1"
  }
 },
 "nbformat": 4,
 "nbformat_minor": 5
}
