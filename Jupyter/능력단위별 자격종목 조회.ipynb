{
 "cells": [
  {
   "cell_type": "code",
   "execution_count": 41,
   "id": "78cbacd4",
   "metadata": {},
   "outputs": [
    {
     "name": "stdout",
     "output_type": "stream",
     "text": [
      "b'<?xml version=\"1.0\" encoding=\"UTF-8\" standalone=\"yes\"?><response><header><resultCode>00</resultCode><resultMsg>NORMAL SERVICE</resultMsg></header><body><items/><numOfRows>10</numOfRows><pageNo>1</pageNo><totalCount>0</totalCount></body></response>'\n"
     ]
    }
   ],
   "source": [
    "import pandas as pd\n",
    "from urllib.request import Request, urlopen\n",
    "from urllib.parse import urlencode, quote_plus\n",
    "\n",
    "url = 'http://apis.data.go.kr/B490007/ncsClCdJm/getNcsClCdJmList'\n",
    "queryParams = '?' + urlencode({ quote_plus('ServiceKey') : 'ygMvNxJQ6HFnIUQtG0H5ykqHK9ANGqXm9AfnHa75GILHvyP4bsRRZfQqfpXtrn+3WmN+kyGCLOLqGo0qlF8HQg==', quote_plus('numOfRows') : '10', quote_plus('pageNo') : '1', quote_plus('dataFormat') : 'xml', quote_plus('ncsClCd') : '\t2001030101_19v3' })\n",
    "\n",
    "request = Request(url + queryParams)\n",
    "request.get_method = lambda: 'GET'\n",
    "response_body = urlopen(request).read()\n",
    "print(response_body)"
   ]
  },
  {
   "cell_type": "code",
   "execution_count": 42,
   "id": "13bb7a3e",
   "metadata": {},
   "outputs": [
    {
     "name": "stdout",
     "output_type": "stream",
     "text": [
      "b'<?xml version=\"1.0\" encoding=\"UTF-8\" standalone=\"yes\"?><response><header><resultCode>00</resultCode><resultMsg>NORMAL SERVICE</resultMsg></header><body><items/><numOfRows>10</numOfRows><pageNo>1</pageNo><totalCount>0</totalCount></body></response>'\n"
     ]
    }
   ],
   "source": [
    "print(response_body)"
   ]
  },
  {
   "cell_type": "code",
   "execution_count": 7,
   "id": "849bb542",
   "metadata": {},
   "outputs": [
    {
     "data": {
      "text/plain": [
       "bytes"
      ]
     },
     "execution_count": 7,
     "metadata": {},
     "output_type": "execute_result"
    }
   ],
   "source": [
    "type(response_body)"
   ]
  },
  {
   "cell_type": "code",
   "execution_count": 35,
   "id": "5fc8e8de",
   "metadata": {},
   "outputs": [
    {
     "data": {
      "text/plain": [
       "str"
      ]
     },
     "execution_count": 35,
     "metadata": {},
     "output_type": "execute_result"
    }
   ],
   "source": [
    "decode_response= response_body.decode('utf-8')\n",
    "type(decode_response)"
   ]
  },
  {
   "cell_type": "code",
   "execution_count": 36,
   "id": "cc2804a8",
   "metadata": {},
   "outputs": [],
   "source": [
    "import json"
   ]
  },
  {
   "cell_type": "code",
   "execution_count": 37,
   "id": "c92f4c48",
   "metadata": {},
   "outputs": [],
   "source": [
    "import xmltodict\n",
    "\n",
    "to_json= xmltodict.parse(decode_response)\n",
    "to_dict= json.dumps(to_json)\n",
    "\n",
    "datas_dict= json.loads(to_dict)"
   ]
  },
  {
   "cell_type": "code",
   "execution_count": 38,
   "id": "2acfdbb3",
   "metadata": {},
   "outputs": [
    {
     "ename": "TypeError",
     "evalue": "'NoneType' object is not subscriptable",
     "output_type": "error",
     "traceback": [
      "\u001b[1;31m---------------------------------------------------------------------------\u001b[0m",
      "\u001b[1;31mTypeError\u001b[0m                                 Traceback (most recent call last)",
      "\u001b[1;32m~\\AppData\\Local\\Temp/ipykernel_1448/643852156.py\u001b[0m in \u001b[0;36m<module>\u001b[1;34m\u001b[0m\n\u001b[1;32m----> 1\u001b[1;33m \u001b[0mdatas_dict\u001b[0m\u001b[1;33m=\u001b[0m\u001b[0mdatas_dict\u001b[0m\u001b[1;33m[\u001b[0m\u001b[1;34m'response'\u001b[0m\u001b[1;33m]\u001b[0m\u001b[1;33m[\u001b[0m\u001b[1;34m'body'\u001b[0m\u001b[1;33m]\u001b[0m\u001b[1;33m[\u001b[0m\u001b[1;34m'items'\u001b[0m\u001b[1;33m]\u001b[0m\u001b[1;33m[\u001b[0m\u001b[1;34m'item'\u001b[0m\u001b[1;33m]\u001b[0m\u001b[1;33m\u001b[0m\u001b[1;33m\u001b[0m\u001b[0m\n\u001b[0m\u001b[0;32m      2\u001b[0m \u001b[1;33m\u001b[0m\u001b[0m\n\u001b[0;32m      3\u001b[0m \u001b[0mdatas_dict\u001b[0m\u001b[1;33m\u001b[0m\u001b[1;33m\u001b[0m\u001b[0m\n",
      "\u001b[1;31mTypeError\u001b[0m: 'NoneType' object is not subscriptable"
     ]
    }
   ],
   "source": [
    "datas_dict=datas_dict['response']['body']['items']['item']\n",
    "\n",
    "datas_dict"
   ]
  },
  {
   "cell_type": "code",
   "execution_count": 27,
   "id": "5eb77814",
   "metadata": {},
   "outputs": [],
   "source": [
    "df_cols =[]\n",
    "\n",
    "for key, val in datas_dict[0].items():\n",
    "    df_cols.append(key)\n",
    "    \n",
    "df_rows={}\n",
    "out_df= pd.DataFrame(columns=df_cols)\n",
    "\n",
    "for i in range(len(datas_dict)):\n",
    "    for key, val in datas_dict[i].items():\n",
    "        df_rows[key]= val\n",
    "    \n",
    "    out_df= out_df.append(df_rows, ignore_index=True)"
   ]
  },
  {
   "cell_type": "code",
   "execution_count": 32,
   "id": "04eed7be",
   "metadata": {},
   "outputs": [
    {
     "data": {
      "text/html": [
       "<div>\n",
       "<style scoped>\n",
       "    .dataframe tbody tr th:only-of-type {\n",
       "        vertical-align: middle;\n",
       "    }\n",
       "\n",
       "    .dataframe tbody tr th {\n",
       "        vertical-align: top;\n",
       "    }\n",
       "\n",
       "    .dataframe thead th {\n",
       "        text-align: right;\n",
       "    }\n",
       "</style>\n",
       "<table border=\"1\" class=\"dataframe\">\n",
       "  <thead>\n",
       "    <tr style=\"text-align: right;\">\n",
       "      <th></th>\n",
       "      <th>jmCd</th>\n",
       "      <th>jmNm</th>\n",
       "      <th>organStdVerCd</th>\n",
       "      <th>eduTrngStdTmSum</th>\n",
       "      <th>jobBasisAbltStdTm</th>\n",
       "      <th>mandAbltUnitStdTm</th>\n",
       "      <th>selAbltUnitStdTm</th>\n",
       "      <th>examInstiNm</th>\n",
       "      <th>ncsClCd</th>\n",
       "      <th>compeUnitName</th>\n",
       "      <th>abltUnitTypCd</th>\n",
       "      <th>abltUnitTypNm</th>\n",
       "      <th>minEduTrngTm</th>\n",
       "    </tr>\n",
       "  </thead>\n",
       "  <tbody>\n",
       "    <tr>\n",
       "      <th>0</th>\n",
       "      <td>O40A</td>\n",
       "      <td>구조해석설계_L4_ver2.0</td>\n",
       "      <td>v2.1</td>\n",
       "      <td>980</td>\n",
       "      <td>0</td>\n",
       "      <td>570</td>\n",
       "      <td>410</td>\n",
       "      <td>한국산업인력공단</td>\n",
       "      <td>1501020207_14v2</td>\n",
       "      <td>요소부품제작성검토</td>\n",
       "      <td>SEL</td>\n",
       "      <td>선택</td>\n",
       "      <td>30</td>\n",
       "    </tr>\n",
       "    <tr>\n",
       "      <th>1</th>\n",
       "      <td>O43A</td>\n",
       "      <td>구조해석설계_L4_ver3.0</td>\n",
       "      <td>v3.0</td>\n",
       "      <td>1155</td>\n",
       "      <td>0</td>\n",
       "      <td>495</td>\n",
       "      <td>660</td>\n",
       "      <td>한국산업인력공단</td>\n",
       "      <td>1501020207_14v2</td>\n",
       "      <td>요소부품제작성검토</td>\n",
       "      <td>SEL</td>\n",
       "      <td>선택</td>\n",
       "      <td>30</td>\n",
       "    </tr>\n",
       "    <tr>\n",
       "      <th>2</th>\n",
       "      <td>B080</td>\n",
       "      <td>기계설계기사</td>\n",
       "      <td>v3.0</td>\n",
       "      <td>825</td>\n",
       "      <td>40</td>\n",
       "      <td>510</td>\n",
       "      <td>275</td>\n",
       "      <td>한국산업인력공단</td>\n",
       "      <td>1501020207_14v2</td>\n",
       "      <td>요소부품제작성검토</td>\n",
       "      <td>SEL</td>\n",
       "      <td>선택</td>\n",
       "      <td>45</td>\n",
       "    </tr>\n",
       "    <tr>\n",
       "      <th>3</th>\n",
       "      <td>B080</td>\n",
       "      <td>기계설계기사</td>\n",
       "      <td>v2.0</td>\n",
       "      <td>825</td>\n",
       "      <td>40</td>\n",
       "      <td>480</td>\n",
       "      <td>305</td>\n",
       "      <td>한국산업인력공단</td>\n",
       "      <td>1501020207_14v2</td>\n",
       "      <td>요소부품제작성검토</td>\n",
       "      <td>SEL</td>\n",
       "      <td>선택</td>\n",
       "      <td>30</td>\n",
       "    </tr>\n",
       "    <tr>\n",
       "      <th>4</th>\n",
       "      <td>B080</td>\n",
       "      <td>기계설계기사</td>\n",
       "      <td>v1.0</td>\n",
       "      <td>825</td>\n",
       "      <td>45</td>\n",
       "      <td>480</td>\n",
       "      <td>300</td>\n",
       "      <td>한국산업인력공단</td>\n",
       "      <td>1501020207_14v2</td>\n",
       "      <td>요소부품제작성검토</td>\n",
       "      <td>SEL</td>\n",
       "      <td>선택</td>\n",
       "      <td>30</td>\n",
       "    </tr>\n",
       "    <tr>\n",
       "      <th>5</th>\n",
       "      <td>C031</td>\n",
       "      <td>기계설계산업기사</td>\n",
       "      <td>v1.0</td>\n",
       "      <td>600</td>\n",
       "      <td>30</td>\n",
       "      <td>360</td>\n",
       "      <td>210</td>\n",
       "      <td>한국산업인력공단</td>\n",
       "      <td>1501020207_14v2</td>\n",
       "      <td>요소부품제작성검토</td>\n",
       "      <td>MAND</td>\n",
       "      <td>필수</td>\n",
       "      <td>15</td>\n",
       "    </tr>\n",
       "    <tr>\n",
       "      <th>6</th>\n",
       "      <td>O60A</td>\n",
       "      <td>기계시스템설계_L6_ver2.0</td>\n",
       "      <td>v2.1</td>\n",
       "      <td>1840</td>\n",
       "      <td>0</td>\n",
       "      <td>900</td>\n",
       "      <td>940</td>\n",
       "      <td>한국산업인력공단</td>\n",
       "      <td>1501020207_14v2</td>\n",
       "      <td>요소부품제작성검토</td>\n",
       "      <td>SEL</td>\n",
       "      <td>선택</td>\n",
       "      <td>80</td>\n",
       "    </tr>\n",
       "    <tr>\n",
       "      <th>7</th>\n",
       "      <td>O63A</td>\n",
       "      <td>기계시스템설계_L6_ver3.0</td>\n",
       "      <td>v3.0</td>\n",
       "      <td>1560</td>\n",
       "      <td>0</td>\n",
       "      <td>690</td>\n",
       "      <td>870</td>\n",
       "      <td>None</td>\n",
       "      <td>1501020207_14v2</td>\n",
       "      <td>요소부품제작성검토</td>\n",
       "      <td>SEL</td>\n",
       "      <td>선택</td>\n",
       "      <td>60</td>\n",
       "    </tr>\n",
       "    <tr>\n",
       "      <th>8</th>\n",
       "      <td>O50A</td>\n",
       "      <td>기계제어설계_L5_ver2.0</td>\n",
       "      <td>v2.1</td>\n",
       "      <td>1205</td>\n",
       "      <td>0</td>\n",
       "      <td>790</td>\n",
       "      <td>415</td>\n",
       "      <td>한국산업인력공단</td>\n",
       "      <td>1501020207_14v2</td>\n",
       "      <td>요소부품제작성검토</td>\n",
       "      <td>SEL</td>\n",
       "      <td>선택</td>\n",
       "      <td>30</td>\n",
       "    </tr>\n",
       "    <tr>\n",
       "      <th>9</th>\n",
       "      <td>O53A</td>\n",
       "      <td>기계제어설계_L5_ver3.0</td>\n",
       "      <td>v3.0</td>\n",
       "      <td>1350</td>\n",
       "      <td>0</td>\n",
       "      <td>465</td>\n",
       "      <td>885</td>\n",
       "      <td>한국산업인력공단</td>\n",
       "      <td>1501020207_14v2</td>\n",
       "      <td>요소부품제작성검토</td>\n",
       "      <td>SEL</td>\n",
       "      <td>선택</td>\n",
       "      <td>30</td>\n",
       "    </tr>\n",
       "  </tbody>\n",
       "</table>\n",
       "</div>"
      ],
      "text/plain": [
       "   jmCd               jmNm organStdVerCd eduTrngStdTmSum jobBasisAbltStdTm  \\\n",
       "0  O40A   구조해석설계_L4_ver2.0          v2.1             980                 0   \n",
       "1  O43A   구조해석설계_L4_ver3.0          v3.0            1155                 0   \n",
       "2  B080             기계설계기사          v3.0             825                40   \n",
       "3  B080             기계설계기사          v2.0             825                40   \n",
       "4  B080             기계설계기사          v1.0             825                45   \n",
       "5  C031           기계설계산업기사          v1.0             600                30   \n",
       "6  O60A  기계시스템설계_L6_ver2.0          v2.1            1840                 0   \n",
       "7  O63A  기계시스템설계_L6_ver3.0          v3.0            1560                 0   \n",
       "8  O50A   기계제어설계_L5_ver2.0          v2.1            1205                 0   \n",
       "9  O53A   기계제어설계_L5_ver3.0          v3.0            1350                 0   \n",
       "\n",
       "  mandAbltUnitStdTm selAbltUnitStdTm examInstiNm          ncsClCd  \\\n",
       "0               570              410    한국산업인력공단  1501020207_14v2   \n",
       "1               495              660    한국산업인력공단  1501020207_14v2   \n",
       "2               510              275    한국산업인력공단  1501020207_14v2   \n",
       "3               480              305    한국산업인력공단  1501020207_14v2   \n",
       "4               480              300    한국산업인력공단  1501020207_14v2   \n",
       "5               360              210    한국산업인력공단  1501020207_14v2   \n",
       "6               900              940    한국산업인력공단  1501020207_14v2   \n",
       "7               690              870        None  1501020207_14v2   \n",
       "8               790              415    한국산업인력공단  1501020207_14v2   \n",
       "9               465              885    한국산업인력공단  1501020207_14v2   \n",
       "\n",
       "  compeUnitName abltUnitTypCd abltUnitTypNm minEduTrngTm  \n",
       "0     요소부품제작성검토           SEL            선택           30  \n",
       "1     요소부품제작성검토           SEL            선택           30  \n",
       "2     요소부품제작성검토           SEL            선택           45  \n",
       "3     요소부품제작성검토           SEL            선택           30  \n",
       "4     요소부품제작성검토           SEL            선택           30  \n",
       "5     요소부품제작성검토          MAND            필수           15  \n",
       "6     요소부품제작성검토           SEL            선택           80  \n",
       "7     요소부품제작성검토           SEL            선택           60  \n",
       "8     요소부품제작성검토           SEL            선택           30  \n",
       "9     요소부품제작성검토           SEL            선택           30  "
      ]
     },
     "execution_count": 32,
     "metadata": {},
     "output_type": "execute_result"
    }
   ],
   "source": [
    "out_df"
   ]
  },
  {
   "cell_type": "code",
   "execution_count": null,
   "id": "b212f20f",
   "metadata": {},
   "outputs": [],
   "source": []
  },
  {
   "cell_type": "code",
   "execution_count": null,
   "id": "df9f4cf2",
   "metadata": {},
   "outputs": [],
   "source": []
  }
 ],
 "metadata": {
  "kernelspec": {
   "display_name": "Python 3 (ipykernel)",
   "language": "python",
   "name": "python3"
  },
  "language_info": {
   "codemirror_mode": {
    "name": "ipython",
    "version": 3
   },
   "file_extension": ".py",
   "mimetype": "text/x-python",
   "name": "python",
   "nbconvert_exporter": "python",
   "pygments_lexer": "ipython3",
   "version": "3.9.1"
  }
 },
 "nbformat": 4,
 "nbformat_minor": 5
}
