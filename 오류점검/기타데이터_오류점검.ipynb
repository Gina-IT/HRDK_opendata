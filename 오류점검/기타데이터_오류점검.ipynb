{
 "cells": [
  {
   "cell_type": "code",
   "execution_count": 25,
   "id": "27f51cae",
   "metadata": {},
   "outputs": [],
   "source": [
    "import pandas as pd\n",
    "import os"
   ]
  },
  {
   "cell_type": "code",
   "execution_count": 26,
   "id": "e61366ba",
   "metadata": {},
   "outputs": [
    {
     "data": {
      "text/plain": [
       "['06. 역대 지방기능경기대회 개최 현황_20210608.csv',\n",
       " '09. 역대 전국기능경기대회 개최현황_20201231.csv',\n",
       " '11. 국가자격 CBT 종목 및 등급 정보_20200602.csv',\n",
       " '12. 국가자격 CBT 과목 정보_20200604.csv',\n",
       " '13. 직업방송 동영상 프로그램 목록_20210622.csv',\n",
       " '20. 지방기능경기대회 경기장 현황(시도, 직종별)_20200609.csv',\n",
       " '22. 국가자격 CBT 시행정보_20200427.csv',\n",
       " '23. HRD4U 시스템 서비스 정보_20210622.csv',\n",
       " '36. 지방기능경기대회 경기장 현황_20210608.csv',\n",
       " '39. 지방기능경기대회 직종별 경기일정 현황_20210608.csv',\n",
       " '41. 국가자격 CBT 통계 및 현황 정보_20201231.csv']"
      ]
     },
     "execution_count": 26,
     "metadata": {},
     "output_type": "execute_result"
    }
   ],
   "source": [
    "os.listdir('C:/Users/USER/Desktop/산업인력공단 파일데이터 csv전체/오류데이터/기타데이터')"
   ]
  },
  {
   "cell_type": "code",
   "execution_count": 27,
   "id": "4114c95c",
   "metadata": {},
   "outputs": [],
   "source": [
    "error_files= os.listdir('C:/Users/USER/Desktop/산업인력공단 파일데이터 csv전체/오류데이터/기타데이터')"
   ]
  },
  {
   "cell_type": "code",
   "execution_count": 7,
   "id": "e7cec343",
   "metadata": {},
   "outputs": [
    {
     "name": "stdout",
     "output_type": "stream",
     "text": [
      "C:\\Users\\USER\\Desktop\\산업인력공단 파일데이터 csv전체\\오류데이터\\기타데이터\n"
     ]
    }
   ],
   "source": [
    "cd C:/Users/USER/Desktop/산업인력공단 파일데이터 csv전체/오류데이터/기타데이터"
   ]
  },
  {
   "cell_type": "code",
   "execution_count": 28,
   "id": "48031053",
   "metadata": {},
   "outputs": [
    {
     "data": {
      "text/plain": [
       "'06. 역대 지방기능경기대회 개최 현황_20210608.csv'"
      ]
     },
     "execution_count": 28,
     "metadata": {},
     "output_type": "execute_result"
    }
   ],
   "source": [
    "error_files[0]"
   ]
  },
  {
   "cell_type": "code",
   "execution_count": 29,
   "id": "1e8530d8",
   "metadata": {},
   "outputs": [
    {
     "data": {
      "text/plain": [
       "dict_keys(['06', '09', '11', '12', '13', '20', '22', '23', '36', '39', '41'])"
      ]
     },
     "execution_count": 29,
     "metadata": {},
     "output_type": "execute_result"
    }
   ],
   "source": [
    "df_error_files= {}\n",
    "\n",
    "for file in error_files:\n",
    "    file_num= file[:2] \n",
    "    df= pd.read_csv(file, encoding='cp949')\n",
    "    df_error_files[file_num]= df\n",
    "\n",
    "df_error_files.keys()"
   ]
  },
  {
   "cell_type": "code",
   "execution_count": null,
   "id": "36e4ad96",
   "metadata": {},
   "outputs": [],
   "source": []
  },
  {
   "cell_type": "code",
   "execution_count": null,
   "id": "dc43b958",
   "metadata": {},
   "outputs": [],
   "source": []
  },
  {
   "cell_type": "code",
   "execution_count": null,
   "id": "14021ad8",
   "metadata": {},
   "outputs": [],
   "source": []
  },
  {
   "cell_type": "code",
   "execution_count": null,
   "id": "d978a5e6",
   "metadata": {},
   "outputs": [],
   "source": []
  },
  {
   "cell_type": "code",
   "execution_count": null,
   "id": "ebf04ac1",
   "metadata": {},
   "outputs": [],
   "source": []
  }
 ],
 "metadata": {
  "kernelspec": {
   "display_name": "Python 3 (ipykernel)",
   "language": "python",
   "name": "python3"
  },
  "language_info": {
   "codemirror_mode": {
    "name": "ipython",
    "version": 3
   },
   "file_extension": ".py",
   "mimetype": "text/x-python",
   "name": "python",
   "nbconvert_exporter": "python",
   "pygments_lexer": "ipython3",
   "version": "3.9.1"
  }
 },
 "nbformat": 4,
 "nbformat_minor": 5
}
